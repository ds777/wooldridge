{
  "nbformat": 4,
  "nbformat_minor": 0,
  "metadata": {
    "colab": {
      "name": "01-introduction-to-econometrics-with-python",
      "provenance": [],
      "toc_visible": true,
      "authorship_tag": "ABX9TyM2HlAsgyoNe2aMCKZ5SpVc",
      "include_colab_link": true
    },
    "kernelspec": {
      "name": "python3",
      "display_name": "Python 3"
    }
  },
  "cells": [
    {
      "cell_type": "markdown",
      "metadata": {
        "id": "view-in-github",
        "colab_type": "text"
      },
      "source": [
        "<a href=\"https://colab.research.google.com/github/ds777/wooldridge/blob/master/01_introduction_to_econometrics_with_python.ipynb\" target=\"_parent\"><img src=\"https://colab.research.google.com/assets/colab-badge.svg\" alt=\"Open In Colab\"/></a>"
      ]
    },
    {
      "cell_type": "markdown",
      "metadata": {
        "id": "mmV5U0PtjD-E",
        "colab_type": "text"
      },
      "source": [
        "# Introduction to econometrics with Python"
      ]
    },
    {
      "cell_type": "code",
      "metadata": {
        "id": "e_VrjSUNxSNw",
        "colab_type": "code",
        "colab": {}
      },
      "source": [
        "## Install libraries"
      ],
      "execution_count": 0,
      "outputs": []
    },
    {
      "cell_type": "code",
      "metadata": {
        "id": "nvdTyNcJxfMH",
        "colab_type": "code",
        "colab": {
          "base_uri": "https://localhost:8080/",
          "height": 35
        },
        "outputId": "7e0bf1d3-444e-4d37-c359-07b44edda5c6"
      },
      "source": [
        "!pip install -q wooldridge"
      ],
      "execution_count": 28,
      "outputs": [
        {
          "output_type": "stream",
          "text": [
            "\u001b[K     |████████████████████████████████| 5.1MB 3.3MB/s \n",
            "\u001b[?25h"
          ],
          "name": "stdout"
        }
      ]
    },
    {
      "cell_type": "code",
      "metadata": {
        "id": "odgmLcukjXND",
        "colab_type": "code",
        "colab": {
          "base_uri": "https://localhost:8080/",
          "height": 72
        },
        "outputId": "4ba5fad3-1019-4c8d-edbe-cd75959d03c8"
      },
      "source": [
        "## Import (load) libraries\n",
        "import numpy as np\n",
        "import pandas as pd\n",
        "import matplotlib.pyplot as plt\n",
        "import statsmodels.api as sm\n",
        "import scipy.stats as stats\n",
        "import wooldridge as woo\n"
      ],
      "execution_count": 52,
      "outputs": [
        {
          "output_type": "stream",
          "text": [
            "/usr/local/lib/python3.6/dist-packages/statsmodels/tools/_testing.py:19: FutureWarning: pandas.util.testing is deprecated. Use the functions in the public API at pandas.testing instead.\n",
            "  import pandas.util.testing as tm\n"
          ],
          "name": "stderr"
        }
      ]
    },
    {
      "cell_type": "markdown",
      "metadata": {
        "id": "3jMMYlVNvn3W",
        "colab_type": "text"
      },
      "source": [
        "## Creating graphs"
      ]
    },
    {
      "cell_type": "markdown",
      "metadata": {
        "id": "EZOpZuGAjjA9",
        "colab_type": "text"
      },
      "source": [
        "### Basic graphs"
      ]
    },
    {
      "cell_type": "code",
      "metadata": {
        "id": "0fL-3PRBiTCX",
        "colab_type": "code",
        "colab": {}
      },
      "source": [
        "# create data:\n",
        "x = [1, 3, 4, 7, 8, 9]\n",
        "y = [0, 3, 6, 9, 7, 8]\n"
      ],
      "execution_count": 0,
      "outputs": []
    },
    {
      "cell_type": "code",
      "metadata": {
        "id": "M1f8VayNkPju",
        "colab_type": "code",
        "colab": {
          "base_uri": "https://localhost:8080/",
          "height": 282
        },
        "outputId": "38407527-0411-43b0-f94a-e86b384cb72b"
      },
      "source": [
        "# plot\n",
        "plt.plot(x, y)\n"
      ],
      "execution_count": 3,
      "outputs": [
        {
          "output_type": "execute_result",
          "data": {
            "text/plain": [
              "[<matplotlib.lines.Line2D at 0x7fadfb82ec18>]"
            ]
          },
          "metadata": {
            "tags": []
          },
          "execution_count": 3
        },
        {
          "output_type": "display_data",
          "data": {
            "image/png": "[encoded data removed]",
            "text/plain": [
              "<Figure size 432x288 with 1 Axes>"
            ]
          },
          "metadata": {
            "tags": [],
            "needs_background": "light"
          }
        }
      ]
    },
    {
      "cell_type": "code",
      "metadata": {
        "id": "a9o-Viqfjri5",
        "colab_type": "code",
        "colab": {}
      },
      "source": [
        "# plot, save, and close\n",
        "plt.figure(figsize=(6, 4))\n",
        "plt.plot(x, y, color='black', linestyle='--', linewidth=3)\n",
        "plt.savefig('Graphs-Basics-a.pdf')\n",
        "plt.savefig('Graphs-Basics-b.png')\n",
        "plt.close()"
      ],
      "execution_count": 0,
      "outputs": []
    },
    {
      "cell_type": "markdown",
      "metadata": {
        "id": "Nt9XVUcrmbA6",
        "colab_type": "text"
      },
      "source": [
        "### Graphs of functions"
      ]
    },
    {
      "cell_type": "code",
      "metadata": {
        "id": "bpzdiWlwmdP9",
        "colab_type": "code",
        "colab": {}
      },
      "source": [
        "# Define domain of function and calculate quadratic function\n",
        "# (creates an array with 100 equispaced elements from -3 to 2):\n",
        "x1 = np.linspace(-3, 2, num=100)\n",
        "# function values for all these values:\n",
        "y1 = x1 ** 2"
      ],
      "execution_count": 0,
      "outputs": []
    },
    {
      "cell_type": "code",
      "metadata": {
        "id": "9abbqsLznb24",
        "colab_type": "code",
        "colab": {
          "base_uri": "https://localhost:8080/",
          "height": 265
        },
        "outputId": "53442fac-def2-4330-eda5-5c9f7d938fbc"
      },
      "source": [
        "# Plot quadratic function:\n",
        "plt.plot(x1, y1)\n",
        "plt.savefig('Graphs-Functions-a.pdf')"
      ],
      "execution_count": 17,
      "outputs": [
        {
          "output_type": "display_data",
          "data": {
            "image/png": "[encoded data removed]",
            "text/plain": [
              "<Figure size 432x288 with 1 Axes>"
            ]
          },
          "metadata": {
            "tags": [],
            "needs_background": "light"
          }
        }
      ]
    },
    {
      "cell_type": "code",
      "metadata": {
        "id": "A1rppQvYnqZh",
        "colab_type": "code",
        "colab": {}
      },
      "source": [
        "# Define domain of function and calculate normal density function:\n",
        "x2 = np.linspace(-4, 4, num=100)\n",
        "y2 = stats.norm.pdf(x2)"
      ],
      "execution_count": 0,
      "outputs": []
    },
    {
      "cell_type": "code",
      "metadata": {
        "id": "YFvAOhO0os-T",
        "colab_type": "code",
        "colab": {
          "base_uri": "https://localhost:8080/",
          "height": 265
        },
        "outputId": "bc192cd9-41b8-4083-b73f-50927b77d99d"
      },
      "source": [
        "# Plot normal density:\n",
        "plt.plot(x2, y2)\n",
        "plt.savefig('Graphs-Functions-b.png')"
      ],
      "execution_count": 20,
      "outputs": [
        {
          "output_type": "display_data",
          "data": {
            "image/png": "[encoded data removed]",
            "text/plain": [
              "<Figure size 432x288 with 1 Axes>"
            ]
          },
          "metadata": {
            "tags": [],
            "needs_background": "light"
          }
        }
      ]
    },
    {
      "cell_type": "markdown",
      "metadata": {
        "id": "JnLnnxExpFQ7",
        "colab_type": "text"
      },
      "source": [
        "### Overlay several functions"
      ]
    },
    {
      "cell_type": "code",
      "metadata": {
        "id": "iHzCCi9vtymF",
        "colab_type": "code",
        "colab": {}
      },
      "source": [
        "# define domain for all functions:\n",
        "x = np.linspace(-4, 4, num=100)\n",
        "# get different density evaluations:\n",
        "y1 = stats.norm.pdf(x, 0, 1)\n",
        "y2 = stats.norm.pdf(x, 1, 0.5)\n",
        "y3 = stats.norm.pdf(x, 0, 2)"
      ],
      "execution_count": 0,
      "outputs": []
    },
    {
      "cell_type": "code",
      "metadata": {
        "id": "08BYM1HTt_2L",
        "colab_type": "code",
        "colab": {
          "base_uri": "https://localhost:8080/",
          "height": 295
        },
        "outputId": "f77d3457-780d-45f6-ae25-795fc258afc9"
      },
      "source": [
        "# plot overlay:\n",
        "plt.plot(x, y1, linestyle='-', color='black', label='mu = 0, sigma = 1')\n",
        "plt.plot(x, y2, linestyle='--', color='0.3', label='mu = 1, sigma = 0.5')\n",
        "plt.plot(x, y3, linestyle=':', color='0.6', label='$\\mu = 0$, $\\sigma = 2$')\n",
        "plt.xlim(-3, 4)\n",
        "plt.title('Normal Densities')\n",
        "plt.ylabel('$\\phi(x)$')\n",
        "plt.xlabel('x')\n",
        "plt.legend()\n",
        "plt.savefig('Graphs-BuildingBlocks.png')"
      ],
      "execution_count": 25,
      "outputs": [
        {
          "output_type": "display_data",
          "data": {
            "image/png": "[encoded data removed]",
            "text/plain": [
              "<Figure size 432x288 with 1 Axes>"
            ]
          },
          "metadata": {
            "tags": [],
            "needs_background": "light"
          }
        }
      ]
    },
    {
      "cell_type": "markdown",
      "metadata": {
        "id": "VrFKUHS6v8-K",
        "colab_type": "text"
      },
      "source": [
        "## Descriptive statistics"
      ]
    },
    {
      "cell_type": "code",
      "metadata": {
        "id": "pzFh9cm606dw",
        "colab_type": "code",
        "colab": {
          "base_uri": "https://localhost:8080/",
          "height": 407
        },
        "outputId": "45d22401-8dc8-4891-ca66-70b0a25391d9"
      },
      "source": [
        "# Load a dataset from the wooldrige library\n",
        "ceosal1 = woo.dataWoo('ceosal1')\n",
        "ceosal1"
      ],
      "execution_count": 41,
      "outputs": [
        {
          "output_type": "execute_result",
          "data": {
            "text/html": [
              "<div>\n",
              "<style scoped>\n",
              "    .dataframe tbody tr th:only-of-type {\n",
              "        vertical-align: middle;\n",
              "    }\n",
              "\n",
              "    .dataframe tbody tr th {\n",
              "        vertical-align: top;\n",
              "    }\n",
              "\n",
              "    .dataframe thead th {\n",
              "        text-align: right;\n",
              "    }\n",
              "</style>\n",
              "<table border=\"1\" class=\"dataframe\">\n",
              "  <thead>\n",
              "    <tr style=\"text-align: right;\">\n",
              "      <th></th>\n",
              "      <th>salary</th>\n",
              "      <th>pcsalary</th>\n",
              "      <th>sales</th>\n",
              "      <th>roe</th>\n",
              "      <th>pcroe</th>\n",
              "      <th>ros</th>\n",
              "      <th>indus</th>\n",
              "      <th>finance</th>\n",
              "      <th>consprod</th>\n",
              "      <th>utility</th>\n",
              "      <th>lsalary</th>\n",
              "      <th>lsales</th>\n",
              "    </tr>\n",
              "  </thead>\n",
              "  <tbody>\n",
              "    <tr>\n",
              "      <th>0</th>\n",
              "      <td>1095</td>\n",
              "      <td>20</td>\n",
              "      <td>27595.000000</td>\n",
              "      <td>14.1</td>\n",
              "      <td>106.400002</td>\n",
              "      <td>191</td>\n",
              "      <td>1</td>\n",
              "      <td>0</td>\n",
              "      <td>0</td>\n",
              "      <td>0</td>\n",
              "      <td>6.998509</td>\n",
              "      <td>10.225389</td>\n",
              "    </tr>\n",
              "    <tr>\n",
              "      <th>1</th>\n",
              "      <td>1001</td>\n",
              "      <td>32</td>\n",
              "      <td>9958.000000</td>\n",
              "      <td>10.9</td>\n",
              "      <td>-30.600000</td>\n",
              "      <td>13</td>\n",
              "      <td>1</td>\n",
              "      <td>0</td>\n",
              "      <td>0</td>\n",
              "      <td>0</td>\n",
              "      <td>6.908755</td>\n",
              "      <td>9.206132</td>\n",
              "    </tr>\n",
              "    <tr>\n",
              "      <th>2</th>\n",
              "      <td>1122</td>\n",
              "      <td>9</td>\n",
              "      <td>6125.899902</td>\n",
              "      <td>23.5</td>\n",
              "      <td>-16.299999</td>\n",
              "      <td>14</td>\n",
              "      <td>1</td>\n",
              "      <td>0</td>\n",
              "      <td>0</td>\n",
              "      <td>0</td>\n",
              "      <td>7.022868</td>\n",
              "      <td>8.720281</td>\n",
              "    </tr>\n",
              "    <tr>\n",
              "      <th>3</th>\n",
              "      <td>578</td>\n",
              "      <td>-9</td>\n",
              "      <td>16246.000000</td>\n",
              "      <td>5.9</td>\n",
              "      <td>-25.700001</td>\n",
              "      <td>-21</td>\n",
              "      <td>1</td>\n",
              "      <td>0</td>\n",
              "      <td>0</td>\n",
              "      <td>0</td>\n",
              "      <td>6.359574</td>\n",
              "      <td>9.695602</td>\n",
              "    </tr>\n",
              "    <tr>\n",
              "      <th>4</th>\n",
              "      <td>1368</td>\n",
              "      <td>7</td>\n",
              "      <td>21783.199219</td>\n",
              "      <td>13.8</td>\n",
              "      <td>-3.000000</td>\n",
              "      <td>56</td>\n",
              "      <td>1</td>\n",
              "      <td>0</td>\n",
              "      <td>0</td>\n",
              "      <td>0</td>\n",
              "      <td>7.221105</td>\n",
              "      <td>9.988894</td>\n",
              "    </tr>\n",
              "    <tr>\n",
              "      <th>...</th>\n",
              "      <td>...</td>\n",
              "      <td>...</td>\n",
              "      <td>...</td>\n",
              "      <td>...</td>\n",
              "      <td>...</td>\n",
              "      <td>...</td>\n",
              "      <td>...</td>\n",
              "      <td>...</td>\n",
              "      <td>...</td>\n",
              "      <td>...</td>\n",
              "      <td>...</td>\n",
              "      <td>...</td>\n",
              "    </tr>\n",
              "    <tr>\n",
              "      <th>204</th>\n",
              "      <td>930</td>\n",
              "      <td>10</td>\n",
              "      <td>1509.099976</td>\n",
              "      <td>9.0</td>\n",
              "      <td>20.500000</td>\n",
              "      <td>131</td>\n",
              "      <td>0</td>\n",
              "      <td>0</td>\n",
              "      <td>0</td>\n",
              "      <td>1</td>\n",
              "      <td>6.835185</td>\n",
              "      <td>7.319269</td>\n",
              "    </tr>\n",
              "    <tr>\n",
              "      <th>205</th>\n",
              "      <td>525</td>\n",
              "      <td>3</td>\n",
              "      <td>1097.099976</td>\n",
              "      <td>15.5</td>\n",
              "      <td>20.100000</td>\n",
              "      <td>72</td>\n",
              "      <td>0</td>\n",
              "      <td>0</td>\n",
              "      <td>0</td>\n",
              "      <td>1</td>\n",
              "      <td>6.263398</td>\n",
              "      <td>7.000426</td>\n",
              "    </tr>\n",
              "    <tr>\n",
              "      <th>206</th>\n",
              "      <td>658</td>\n",
              "      <td>32</td>\n",
              "      <td>4542.600098</td>\n",
              "      <td>12.1</td>\n",
              "      <td>-7.800000</td>\n",
              "      <td>68</td>\n",
              "      <td>0</td>\n",
              "      <td>0</td>\n",
              "      <td>0</td>\n",
              "      <td>1</td>\n",
              "      <td>6.489205</td>\n",
              "      <td>8.421255</td>\n",
              "    </tr>\n",
              "    <tr>\n",
              "      <th>207</th>\n",
              "      <td>555</td>\n",
              "      <td>6</td>\n",
              "      <td>2023.000000</td>\n",
              "      <td>13.7</td>\n",
              "      <td>-14.600000</td>\n",
              "      <td>60</td>\n",
              "      <td>0</td>\n",
              "      <td>0</td>\n",
              "      <td>0</td>\n",
              "      <td>1</td>\n",
              "      <td>6.318968</td>\n",
              "      <td>7.612337</td>\n",
              "    </tr>\n",
              "    <tr>\n",
              "      <th>208</th>\n",
              "      <td>626</td>\n",
              "      <td>0</td>\n",
              "      <td>1442.500000</td>\n",
              "      <td>14.4</td>\n",
              "      <td>-10.200000</td>\n",
              "      <td>62</td>\n",
              "      <td>0</td>\n",
              "      <td>0</td>\n",
              "      <td>0</td>\n",
              "      <td>1</td>\n",
              "      <td>6.439351</td>\n",
              "      <td>7.274133</td>\n",
              "    </tr>\n",
              "  </tbody>\n",
              "</table>\n",
              "<p>209 rows × 12 columns</p>\n",
              "</div>"
            ],
            "text/plain": [
              "     salary  pcsalary         sales  ...  utility   lsalary     lsales\n",
              "0      1095        20  27595.000000  ...        0  6.998509  10.225389\n",
              "1      1001        32   9958.000000  ...        0  6.908755   9.206132\n",
              "2      1122         9   6125.899902  ...        0  7.022868   8.720281\n",
              "3       578        -9  16246.000000  ...        0  6.359574   9.695602\n",
              "4      1368         7  21783.199219  ...        0  7.221105   9.988894\n",
              "..      ...       ...           ...  ...      ...       ...        ...\n",
              "204     930        10   1509.099976  ...        1  6.835185   7.319269\n",
              "205     525         3   1097.099976  ...        1  6.263398   7.000426\n",
              "206     658        32   4542.600098  ...        1  6.489205   8.421255\n",
              "207     555         6   2023.000000  ...        1  6.318968   7.612337\n",
              "208     626         0   1442.500000  ...        1  6.439351   7.274133\n",
              "\n",
              "[209 rows x 12 columns]"
            ]
          },
          "metadata": {
            "tags": []
          },
          "execution_count": 41
        }
      ]
    },
    {
      "cell_type": "markdown",
      "metadata": {
        "id": "XxE8jIEJ8by_",
        "colab_type": "text"
      },
      "source": [
        "### Central tendency, dispersion, correlation"
      ]
    },
    {
      "cell_type": "code",
      "metadata": {
        "id": "sh_m5Y1Y5x8e",
        "colab_type": "code",
        "colab": {}
      },
      "source": [
        "# extract roe and salary:\n",
        "roe = ceosal1['roe']\n",
        "salary = ceosal1['salary']"
      ],
      "execution_count": 0,
      "outputs": []
    },
    {
      "cell_type": "code",
      "metadata": {
        "id": "m2-nrkGF6Fgv",
        "colab_type": "code",
        "colab": {
          "base_uri": "https://localhost:8080/",
          "height": 35
        },
        "outputId": "ed759e48-fa9e-4b77-c4f1-465f5a325801"
      },
      "source": [
        "#  average for roe:\n",
        "roe_mean = np.mean(roe)\n",
        "roe_mean"
      ],
      "execution_count": 67,
      "outputs": [
        {
          "output_type": "execute_result",
          "data": {
            "text/plain": [
              "17.18421050521175"
            ]
          },
          "metadata": {
            "tags": []
          },
          "execution_count": 67
        }
      ]
    },
    {
      "cell_type": "code",
      "metadata": {
        "id": "4m-gaLC16jCV",
        "colab_type": "code",
        "colab": {
          "base_uri": "https://localhost:8080/",
          "height": 35
        },
        "outputId": "6a4b5ff0-e16b-4d14-b400-a299630a052b"
      },
      "source": [
        "#  average for salary:\n",
        "salary_mean = np.mean(salary)\n",
        "salary_mean"
      ],
      "execution_count": 68,
      "outputs": [
        {
          "output_type": "execute_result",
          "data": {
            "text/plain": [
              "1281.1196172248804"
            ]
          },
          "metadata": {
            "tags": []
          },
          "execution_count": 68
        }
      ]
    },
    {
      "cell_type": "code",
      "metadata": {
        "id": "hANnF7xg60WT",
        "colab_type": "code",
        "colab": {
          "base_uri": "https://localhost:8080/",
          "height": 35
        },
        "outputId": "b9da1060-18f7-43f3-ebca-dd09409397de"
      },
      "source": [
        "#  median for salary\n",
        "salary_med = np.median(salary)\n",
        "salary_med"
      ],
      "execution_count": 69,
      "outputs": [
        {
          "output_type": "execute_result",
          "data": {
            "text/plain": [
              "1039.0"
            ]
          },
          "metadata": {
            "tags": []
          },
          "execution_count": 69
        }
      ]
    },
    {
      "cell_type": "code",
      "metadata": {
        "id": "BOskWHuI7Kgm",
        "colab_type": "code",
        "colab": {
          "base_uri": "https://localhost:8080/",
          "height": 35
        },
        "outputId": "15e72773-a421-4b88-d42d-3d3d065054d0"
      },
      "source": [
        "# standard deviation for salary:\n",
        "salary_std = np.std(salary)\n",
        "salary_std"
      ],
      "execution_count": 74,
      "outputs": [
        {
          "output_type": "execute_result",
          "data": {
            "text/plain": [
              "1369.0582486088983"
            ]
          },
          "metadata": {
            "tags": []
          },
          "execution_count": 74
        }
      ]
    },
    {
      "cell_type": "code",
      "metadata": {
        "id": "KOPKXUIt73fJ",
        "colab_type": "code",
        "colab": {
          "base_uri": "https://localhost:8080/",
          "height": 52
        },
        "outputId": "f1a3534d-c9c9-4416-faa8-0014f6c24f5f"
      },
      "source": [
        "# correlation between salary and ROE:\n",
        "salary_roe_corr = np.corrcoef(salary, roe)\n",
        "salary_roe_corr\n"
      ],
      "execution_count": 77,
      "outputs": [
        {
          "output_type": "execute_result",
          "data": {
            "text/plain": [
              "array([[1.        , 0.11484173],\n",
              "       [0.11484173, 1.        ]])"
            ]
          },
          "metadata": {
            "tags": []
          },
          "execution_count": 77
        }
      ]
    },
    {
      "cell_type": "markdown",
      "metadata": {
        "id": "twVr7u2n0xv2",
        "colab_type": "text"
      },
      "source": [
        "### Histogram and kernel density"
      ]
    },
    {
      "cell_type": "code",
      "metadata": {
        "id": "AQGGXLke2D8e",
        "colab_type": "code",
        "colab": {
          "base_uri": "https://localhost:8080/",
          "height": 279
        },
        "outputId": "56913ef6-9bc7-4676-9112-4de20385dd61"
      },
      "source": [
        "# histogram with counts\n",
        "plt.hist(roe)\n",
        "plt.ylabel('Counts')\n",
        "plt.xlabel('roe')\n",
        "plt.savefig('Histogram1.png')"
      ],
      "execution_count": 47,
      "outputs": [
        {
          "output_type": "display_data",
          "data": {
            "image/png": "[encoded data removed]",
            "text/plain": [
              "<Figure size 432x288 with 1 Axes>"
            ]
          },
          "metadata": {
            "tags": [],
            "needs_background": "light"
          }
        }
      ]
    },
    {
      "cell_type": "code",
      "metadata": {
        "id": "iIFJLnPv2ejC",
        "colab_type": "code",
        "colab": {
          "base_uri": "https://localhost:8080/",
          "height": 279
        },
        "outputId": "84fd6fe6-7355-418a-bfce-98dd22a07a1f"
      },
      "source": [
        "# histogram with explicit breaks:\n",
        "breaks = [0, 10, 20, 30, 40, 50, 60]\n",
        "plt.hist(roe, bins=breaks)\n",
        "plt.ylabel('Counts')\n",
        "plt.xlabel('roe')\n",
        "plt.savefig('Histogram2.png')"
      ],
      "execution_count": 51,
      "outputs": [
        {
          "output_type": "display_data",
          "data": {
            "image/png": "[encoded data removed]",
            "text/plain": [
              "<Figure size 432x288 with 1 Axes>"
            ]
          },
          "metadata": {
            "tags": [],
            "needs_background": "light"
          }
        }
      ]
    },
    {
      "cell_type": "code",
      "metadata": {
        "id": "gvrsAMUY3UfV",
        "colab_type": "code",
        "colab": {}
      },
      "source": [
        "# estimate kernel density:\n",
        "kde = sm.nonparametric.KDEUnivariate(roe)\n",
        "kde.fit()"
      ],
      "execution_count": 0,
      "outputs": []
    },
    {
      "cell_type": "code",
      "metadata": {
        "id": "J14WfuUL4IZv",
        "colab_type": "code",
        "colab": {
          "base_uri": "https://localhost:8080/",
          "height": 279
        },
        "outputId": "1c46cd95-837f-44b7-e919-52d5f1f2f3f8"
      },
      "source": [
        "# kernel density:\n",
        "plt.plot(kde.support, kde.density)\n",
        "plt.ylabel('density')\n",
        "plt.xlabel('roe')\n",
        "plt.savefig('Density1.png')"
      ],
      "execution_count": 57,
      "outputs": [
        {
          "output_type": "display_data",
          "data": {
            "image/png": "[encoded data removed]",
            "text/plain": [
              "<Figure size 432x288 with 1 Axes>"
            ]
          },
          "metadata": {
            "tags": [],
            "needs_background": "light"
          }
        }
      ]
    },
    {
      "cell_type": "code",
      "metadata": {
        "id": "tvAUJ_OA4zR6",
        "colab_type": "code",
        "colab": {
          "base_uri": "https://localhost:8080/",
          "height": 279
        },
        "outputId": "09550a1b-5945-4083-8e3d-f6812b9defd2"
      },
      "source": [
        "# Kernel density with overlayed histogram:\n",
        "plt.hist(roe, density=True)\n",
        "plt.plot(kde.support, kde.density)\n",
        "plt.ylabel('density')\n",
        "plt.xlabel('roe')\n",
        "plt.savefig('Density2.png')"
      ],
      "execution_count": 61,
      "outputs": [
        {
          "output_type": "display_data",
          "data": {
            "image/png": "[encoded data removed]",
            "text/plain": [
              "<Figure size 432x288 with 1 Axes>"
            ]
          },
          "metadata": {
            "tags": [],
            "needs_background": "light"
          }
        }
      ]
    },
    {
      "cell_type": "markdown",
      "metadata": {
        "id": "GbmGYKnb8Vso",
        "colab_type": "text"
      },
      "source": [
        "### Boxplot"
      ]
    },
    {
      "cell_type": "code",
      "metadata": {
        "id": "7MYfNL7i8Uv8",
        "colab_type": "code",
        "colab": {
          "base_uri": "https://localhost:8080/",
          "height": 265
        },
        "outputId": "193ef826-7c1d-458c-a17a-a3c08f168e4b"
      },
      "source": [
        "# plot horizontal boxplot\n",
        "plt.boxplot(roe, vert=False)\n",
        "plt.ylabel('roe')\n",
        "plt.savefig('Boxplot1.png')"
      ],
      "execution_count": 79,
      "outputs": [
        {
          "output_type": "display_data",
          "data": {
            "image/png": "[encoded data removed]",
            "text/plain": [
              "<Figure size 432x288 with 1 Axes>"
            ]
          },
          "metadata": {
            "tags": [],
            "needs_background": "light"
          }
        }
      ]
    }
  ]
}